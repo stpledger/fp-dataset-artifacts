{
 "cells": [
  {
   "cell_type": "code",
   "execution_count": 2,
   "metadata": {},
   "outputs": [],
   "source": [
    "import numpy as np"
   ]
  },
  {
   "cell_type": "code",
   "execution_count": 3,
   "metadata": {},
   "outputs": [
    {
     "name": "stdout",
     "output_type": "stream",
     "text": [
      "[-1.60943791 -0.35667494 -2.30258509]\n",
      "Cross-Entropy Loss: 0.35667494393873245\n"
     ]
    }
   ],
   "source": [
    "# True label (one-hot encoded)\n",
    "true_label = np.array([0, 1, 0])  # True class is index 1\n",
    "\n",
    "# Predicted probabilities (output of softmax)\n",
    "predicted_probs = np.array([0.2, 0.7, 0.1])\n",
    "\n",
    "# Cross-entropy loss\n",
    "print(np.log(predicted_probs))\n",
    "\n",
    "loss = -np.sum(true_label * np.log(predicted_probs))\n",
    "print(f\"Cross-Entropy Loss: {loss}\")"
   ]
  }
 ],
 "metadata": {
  "kernelspec": {
   "display_name": "nlp",
   "language": "python",
   "name": "python3"
  },
  "language_info": {
   "codemirror_mode": {
    "name": "ipython",
    "version": 3
   },
   "file_extension": ".py",
   "mimetype": "text/x-python",
   "name": "python",
   "nbconvert_exporter": "python",
   "pygments_lexer": "ipython3",
   "version": "3.10.14"
  }
 },
 "nbformat": 4,
 "nbformat_minor": 2
}
